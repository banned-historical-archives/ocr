{
 "cells": [
  {
   "cell_type": "code",
   "execution_count": null,
   "metadata": {},
   "outputs": [],
   "source": [
    "from paddleocr import PaddleOCR, draw_ocr\n",
    "import numpy as np\n",
    "from PIL import Image, ImageDraw, ImageFont\n",
    "import sys\n",
    "sys.path.append('.')\n",
    "from utils import draw_ocr_results\n",
    "\n",
    "def do_ocr(version, img_path, max_length):\n",
    "    # Paddleocr目前支持的多语言语种可以通过修改lang参数进行切换\n",
    "    # 例如`ch`, `en`, `fr`, `german`, `korean`, `japan`\n",
    "    ocr = PaddleOCR(\n",
    "        use_angle_cls=True,\n",
    "        # lang=\"ch\",\n",
    "        ocr_version=version,\n",
    "        # use_onnx=True,\n",
    "        show_log=True,\n",
    "        #   det_algorithm= 'DB',\n",
    "        det_db_box_thresh= 0.3,\n",
    "        det_limit_type= \"max\",\n",
    "        det_limit_side_len= 960,\n",
    "        drop_score=0.3)\n",
    "    # need to run only once to download and load model into memory\n",
    "    image = Image.open(img_path).convert('RGB')\n",
    "    ratio = max_length / image.width if image.width > image.height else max_length / image.height \n",
    "    new_size = (int(image.width * ratio), int(image.height * ratio))\n",
    "    print(new_size)\n",
    "    image = image.resize(new_size)\n",
    "\n",
    "    result = ocr.ocr(np.array(image), cls=True)\n",
    "    # for idx in range(len(result)):\n",
    "    #     res = result[idx]\n",
    "    #     for line in res:\n",
    "    #         print(line)\n",
    "\n",
    "    # 显示结果\n",
    "    result = result[0]\n",
    "\n",
    "    # for i in result:\n",
    "    #     print(i[1][0])\n",
    "    draw_ocr_results(image, result, './fonts/simfang.ttf')\n",
    "\n",
    "do_ocr(\"PP-OCRv3\", './test7.jpg',3000)\n",
    "do_ocr(\"PP-OCRv4\", './test7.jpg',3000)"
   ]
  }
 ],
 "metadata": {
  "language_info": {
   "name": "python"
  }
 },
 "nbformat": 4,
 "nbformat_minor": 2
}
