{
 "cells": [
  {
   "cell_type": "code",
   "execution_count": 9,
   "metadata": {},
   "outputs": [
    {
     "name": "stdout",
     "output_type": "stream",
     "text": [
      "35\n"
     ]
    }
   ],
   "source": [
    "from cnstd import CnStd\n",
    "from PIL import Image\n",
    "import os\n",
    "\n",
    "model_name, model_backend = 'ch_PP-OCRv3_det', 'onnx'\n",
    "img_fp = './test.jpg'\n",
    "std = CnStd(model_name, model_backend=model_backend, use_angle_clf=True)\n",
    "img = Image.open(img_fp)\n",
    "box_info_list = std.detect(img)\n",
    "print(len(box_info_list['detected_texts']))"
   ]
  }
 ],
 "metadata": {
  "kernelspec": {
   "display_name": "Python 3",
   "language": "python",
   "name": "python3"
  },
  "language_info": {
   "codemirror_mode": {
    "name": "ipython",
    "version": 3
   },
   "file_extension": ".py",
   "mimetype": "text/x-python",
   "name": "python",
   "nbconvert_exporter": "python",
   "pygments_lexer": "ipython3",
   "version": "3.10.12"
  }
 },
 "nbformat": 4,
 "nbformat_minor": 2
}
