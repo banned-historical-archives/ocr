{
 "cells": [
  {
   "cell_type": "code",
   "execution_count": null,
   "metadata": {},
   "outputs": [],
   "source": [
    "from cnocr import CnOcr, read_img\n",
    "import numpy as np\n",
    "from cnocr.utils import draw_ocr_results\n",
    "import os\n",
    "import fitz\n",
    "\n",
    "pdf_path = os.path.join('../05553c80-edc7-44da-9c04-763802e9f833.pdf')\n",
    "doc = fitz.open(pdf_path)\n",
    "page = doc.load_page(7)\n",
    "pix = page.get_pixmap(dpi = 150)\n",
    "pix.save('mm.png')\n",
    "\n",
    "ocr = CnOcr(\n",
    "        det_model_name = 'ch_PP-OCRv3_det',\n",
    "        #rec_model_name = 'ch_PP-OCRv3',\n",
    "        rec_model_name = 'ch_ppocr_mobile_v2.0',\n",
    "        context = 'cpu',\n",
    "        rec_model_backend = 'onnx',\n",
    "        det_model_backend = 'onnx',\n",
    ")\n",
    "img_fp = 'mm.png'\n",
    "img = read_img(img_fp)\n",
    "res = ocr.ocr(img,\n",
    "            resized_shape=1496,\n",
    "            preserve_aspect_ratio=True,\n",
    "            box_score_thresh=0.3,\n",
    "            min_box_size=10\n",
    "              )\n",
    "t=[{\"text\": str(i['text']), \"box\": [\n",
    "            [float(j) for j in [i['position'][0][0] if i['position'][0][0] > 0 else 0,\n",
    "            i['position'][0][1] if i['position'][0][1] > 0 else 0,]],\n",
    "            [float(j) for j in [i['position'][1][0] if i['position'][1][0] > 0 else 0,\n",
    "            i['position'][1][1] if i['position'][1][1] > 0 else 0,]],\n",
    "            [float(j) for j in [i['position'][2][0] if i['position'][2][0] > 0 else 0,\n",
    "            i['position'][2][1] if i['position'][2][1] > 0 else 0,]],\n",
    "            [float(j) for j in [i['position'][3][0] if i['position'][3][0] > 0 else 0,\n",
    "            i['position'][3][1] if i['position'][3][1] > 0 else 0,]],\n",
    "            ]} for i in res]\n",
    "print(t[37]['text'])\n",
    "import json\n",
    "json.dumps(t)\n",
    "eawimg = Image.open(img_fp).convert('RGB')\n",
    "draw_ocr_results(rawimg, res, './output.jpg', './fonts/simfang.ttf')\n",
    "\n",
    "# plt.figure(figsize=(img.shape[0]/100, img.shape[1]/100), dpi=100)\n",
    "from PIL import Image\n",
    "import matplotlib.pyplot as plt\n",
    "from IPython.display import display\n",
    "\n",
    "output = Image.open('./output.jpg')\n",
    "# plt.axis('off')  # Turn off axis numbers\n",
    "display(output)"
   ]
  }
 ],
 "metadata": {
  "kernelspec": {
   "display_name": "Python 3",
   "language": "python",
   "name": "python3"
  },
  "language_info": {
   "codemirror_mode": {
    "name": "ipython",
    "version": 3
   },
   "file_extension": ".py",
   "mimetype": "text/x-python",
   "name": "python",
   "nbconvert_exporter": "python",
   "pygments_lexer": "ipython3",
   "version": "3.10.12"
  }
 },
 "nbformat": 4,
 "nbformat_minor": 2
}
